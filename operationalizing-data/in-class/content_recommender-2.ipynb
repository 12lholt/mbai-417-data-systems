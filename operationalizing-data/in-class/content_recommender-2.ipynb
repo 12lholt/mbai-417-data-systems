{
  "cells": [
    {
      "cell_type": "markdown",
      "metadata": {
        "id": "view-in-github",
        "colab_type": "text"
      },
      "source": [
        "<a href=\"https://colab.research.google.com/github/brook-miller/mbai-417-data/blob/main/operationalizing-data/in-class/content_recommender-2.ipynb\" target=\"_parent\"><img src=\"https://colab.research.google.com/assets/colab-badge.svg\" alt=\"Open In Colab\"/></a>"
      ]
    },
    {
      "cell_type": "markdown",
      "metadata": {
        "id": "7CBqXIy05PPZ"
      },
      "source": [
        "# Creating content recommendations for Kellogg+\n",
        "\n",
        "> “He called me out of the blue and said, ‘Do you want to do Moneyball for Hollywood?’” Marolda recalls, referring to the book and movie about how the Oakland A’s used statistical analysis to improve their team’s fortunes. “I thought for 30 seconds and said, ‘Yeah.’” Legendary hired Marolda and acquired part of StratBridge’s business.\n",
        ">\n",
        "> In the sports world, says Marolda, using analytics “never created a great athlete. But they can help a manager put him in the best position to succeed. It’s the same with entertainment content. You want to put it in the best position to succeed. We’re just trying to increase our odds and be smarter.”  \n",
        ">\n",
        "> [Making Movies the Moneyball Way, Boston Globe, 2016](https://www.bostonglobe.com/business/technology/2016/03/31/making-movies-moneyball-way/Uzgwh2cdGthA1N3nZHqz0N/story.html)\n",
        "\n",
        "As part of the new streaming service Kellogg+ surveys were conducted to identify the favorite movies as well as key demographic info for a sample of Kellogg+ customers.\n",
        "\n",
        "Kellogg+ is interested in recruiting more diverse and younger audiences to their platform and would like to have a profile of the favorite movies of their audience in order to make better recommendations on what types of content to produce on the streaming service.\n",
        "\n",
        "In addition to the favorite movies in [favorite-movies.csv](https://raw.githubusercontent.com/brook-miller/mbai-417-data/main/data-governance/homework/favorite-movies.csv), the team procured data from [IMDB](https://www.imdb.com/) with key statistics and genre information for each movie in [imdb-movie-data.csv](https://raw.githubusercontent.com/brook-miller/mbai-417-data/main/data-governance/homework/imdb-movie-data.csv).\n",
        "\n",
        "For this assigment:\n",
        "1. Remove PII and create a unique id for each of the 3,198 responses.\n",
        "2. Organize the data and remove movie titles that can't be matched to the IMDB data.\n",
        "3. Determine the most popular movies for the 24 and under age group.\n",
        "4. Find out the top genre preferences of the 24 and under age group.\n",
        "5. Determine if favorite movies vary by ethnicity (all age groups)\n",
        "\n",
        "*Bonus: Some execs believe that content is too long.  Can we determine if the 24 and under age group prefers shorter movies?\n"
      ]
    },
    {
      "cell_type": "code",
      "execution_count": null,
      "metadata": {
        "id": "e8wPQHC25LGS"
      },
      "outputs": [],
      "source": [
        "#@title installing pandasql \n",
        "#@markdown While pandas is unrivaled for data manipulation, it can be more challenging for reporting.  Wanted to provide the pandasql library.  \n",
        "#@markdown [short tutorial / examples](https://www.analyticsvidhya.com/blog/2021/07/pandasql-best-way-to-run-sql-queries-and-codes-in-jupyter-notebook-using-python/) as an alternative for reporting.\n",
        "!pip install pandasql\n",
        "from pandasql import sqldf\n",
        "sqlquery = lambda q: sqldf(q, globals())"
      ]
    },
    {
      "cell_type": "code",
      "execution_count": null,
      "metadata": {
        "id": "_mYOq_Yk8bwK"
      },
      "outputs": [],
      "source": [
        "#@title standard imports - we'll use in most EDA\n",
        "import numpy as np\n",
        "import pandas as pd\n",
        "import matplotlib.pyplot as plt\n",
        "import plotly.express as px\n",
        "\n",
        "from datetime import datetime, timedelta\n",
        "from dateutil.parser import parse\n",
        "from google.colab import data_table\n",
        "data_table.enable_dataframe_formatter()"
      ]
    },
    {
      "cell_type": "code",
      "execution_count": null,
      "metadata": {
        "id": "XytDHMV58djr"
      },
      "outputs": [],
      "source": [
        "#@title loading data\n",
        "favoritesdf = pd.read_csv(\"https://raw.githubusercontent.com/brook-miller/mbai-417-data/main/data-governance/homework/favorite-movies.csv\")\n",
        "moviesdf = pd.read_csv(\"https://raw.githubusercontent.com/brook-miller/mbai-417-data/main/data-governance/homework/imdb-movie-data.csv\")"
      ]
    },
    {
      "cell_type": "code",
      "execution_count": null,
      "metadata": {
        "id": "36RziBvOEPwL"
      },
      "outputs": [],
      "source": [
        "favoritesdf"
      ]
    },
    {
      "cell_type": "code",
      "execution_count": null,
      "metadata": {
        "id": "EpCbvEBUEPZf"
      },
      "outputs": [],
      "source": [
        "moviesdf = moviesdf.drop_duplicates(subset=[\"Title\"])\n",
        "moviesdf"
      ]
    },
    {
      "cell_type": "code",
      "source": [
        "#@title An example query using pandasql if you're more comfortable using that for reporting\n",
        "age_genders = sqlquery(\"\"\"\n",
        "  select gender_age, count(*) as counts\n",
        "    from favoritesdf\n",
        "    group by gender_age\n",
        "    order by counts desc\n",
        "  \"\"\")\n",
        "age_genders"
      ],
      "metadata": {
        "id": "tEjgrlMmGV9H"
      },
      "execution_count": null,
      "outputs": []
    },
    {
      "cell_type": "code",
      "source": [
        "#@title An example query using pandasql if you're more comfortable using that for reporting\n",
        "ethnicities = sqlquery(\"\"\"\n",
        "  select ethnicity, count(*) as counts\n",
        "    from favoritesdf\n",
        "    group by ethnicity\n",
        "    order by counts desc\n",
        "  \"\"\")\n",
        "ethnicities"
      ],
      "metadata": {
        "id": "pTyWW9PFtMLE"
      },
      "execution_count": null,
      "outputs": []
    },
    {
      "cell_type": "code",
      "source": [
        "#@title using murmur3 to hash the social security numbers\n",
        "len(favoritesdf.social_security_num.unique())\n",
        "!pip install mmh3\n",
        "import mmh3\n",
        "favoritesdf[\"id\"] = favoritesdf[\"social_security_num\"].apply(lambda x: mmh3.hash(x))"
      ],
      "metadata": {
        "id": "_EdL4XA6bD4X"
      },
      "execution_count": null,
      "outputs": []
    },
    {
      "cell_type": "code",
      "source": [
        "#@title data wrangling, organizing data to get all movies into a single column\n",
        "fav2 = favoritesdf.drop([\"name\", \"email_address\", \"social_security_num\"], axis = 1)\n",
        "fav3 = pd.melt(fav2, id_vars=[\"gender_age\", \"ethnicity\", \"id\"], value_vars=[\"movie1\", \"movie2\", \"movie3\", \"movie4\", \"movie5\"],\n",
        "        var_name='temp', value_name='movie')\n",
        "fav4 = fav3.drop([\"temp\"], axis = 1)\n",
        "movies2 = moviesdf[[\"Title\"]]\n",
        "fav5 = pd.merge(left = fav4, right = movies2,  left_on = \"movie\", right_on = \"Title\")\n",
        "fav6 = fav5.drop([\"Title\"], axis = 1)\n",
        "fav6[['gender', 'age']] = fav6['gender_age'].str.split(' ', 1, expand=True)\n",
        "fav8 = fav6[[\"id\",\"gender\", \"age\", \"ethnicity\", \"movie\"]]"
      ],
      "metadata": {
        "id": "FWRhMxlSdiIx"
      },
      "execution_count": null,
      "outputs": []
    },
    {
      "cell_type": "code",
      "source": [
        "#@title long tail\n",
        "fig = px.histogram(fav8, x=\"movie\").update_xaxes(categoryorder=\"total descending\")\n",
        "fig.show()"
      ],
      "metadata": {
        "id": "GXv6_usQeSp8"
      },
      "execution_count": null,
      "outputs": []
    },
    {
      "cell_type": "code",
      "source": [
        "fig = px.histogram(fav8.loc[(fav8.age == \"14-17\") | (fav8.age == \"18-24\")], x=\"movie\").update_xaxes(categoryorder=\"total descending\")\n",
        "fig.show()"
      ],
      "metadata": {
        "id": "gVk8RcCIpcfb"
      },
      "execution_count": null,
      "outputs": []
    },
    {
      "cell_type": "code",
      "source": [
        "fav8"
      ],
      "metadata": {
        "id": "5Q7qvMpqsYjn"
      },
      "execution_count": null,
      "outputs": []
    },
    {
      "cell_type": "code",
      "source": [
        "#@title grouping by gender, age, ethnicity and creating count\n",
        "grouped = fav8.groupby(by=[\"gender\", \"age\", \"ethnicity\", \"movie\"])[\"id\"].count().reset_index(name=\"count\")\n",
        "grouped"
      ],
      "metadata": {
        "id": "BUbiX8S5rzTx"
      },
      "execution_count": null,
      "outputs": []
    },
    {
      "cell_type": "code",
      "source": [
        "#@title creating a column for every age, gender, ethnicity combination and a total column (the column names are actually tuples)\n",
        "fav9 = grouped.pivot(index=[\"movie\"], columns=[\"gender\",\"age\",\"ethnicity\"], values = \"count\").fillna(value=0)\n",
        "fav9.columns = fav9.columns.to_flat_index()\n",
        "fav9[\"total\"] = fav9.sum(axis =1)\n",
        "fav9 = fav9.sort_values(by=\"total\", ascending=False)\n",
        "fav10 = fav9.loc[fav9[\"total\"] >= 10].reset_index()\n",
        "fav10"
      ],
      "metadata": {
        "id": "Nww7qFfJtebP"
      },
      "execution_count": null,
      "outputs": []
    },
    {
      "cell_type": "code",
      "source": [
        "#@title creating a new summary dataframe for plotting\n",
        "female_columns = [col for col in fav10.columns if \"Female\" in col ]\n",
        "youth_columns = [col for col in fav10.columns if \"17\" in col[1] or \"24\" in col[1]]\n",
        "                                                  \n",
        "summary_df = fav10[[\"movie\", \"total\"]].copy()\n",
        "summary_df[\"femalen\"] = fav10[female_columns].sum(axis =1) / fav10[\"total\"]\n",
        "summary_df[\"youth\"] = fav10[youth_columns].sum(axis=1) / fav10[\"total\"]\n",
        "summary_df = summary_df.sort_values(by=\"youthness\", ascending=False)\n",
        "summary_df"
      ],
      "metadata": {
        "id": "qfnY23Es-KPZ"
      },
      "execution_count": null,
      "outputs": []
    },
    {
      "cell_type": "code",
      "source": [
        "plotdf = summary_df.sort_values(by=\"total\", ascending=False)[:100]\n",
        "fig = px.scatter(plotdf, x=\"female\", y=\"youth\", text=\"movie\", size = \"total\", height=1000, color=\"total\")\n",
        "fig.update_traces(textposition='bottom center')\n",
        "fig.show()"
      ],
      "metadata": {
        "id": "suH_AznbDTfq"
      },
      "execution_count": null,
      "outputs": []
    },
    {
      "cell_type": "markdown",
      "source": [
        "# Lab Exercise\n",
        "\n",
        "In the code cells below, create a plot showing top movies percentage of female responses vs. percentage of \"African-American or Black\" responses"
      ],
      "metadata": {
        "id": "YpNhGY40qpxu"
      }
    },
    {
      "cell_type": "code",
      "source": [
        "#@title creating a new summary dataframe for plotting\n",
        "female_columns = [col for col in fav10.columns if \"Female\" in col[0] ]\n",
        "aab_columns = [col for col in fav10.columns if \"Afri\" in col[2]]\n",
        "                                                  \n",
        "summary_df = fav10[[\"movie\", \"total\"]].copy()\n",
        "summary_df[\"female\"] = fav10[female_columns].sum(axis =1) / fav10[\"total\"]\n",
        "summary_df[\"african-american_black\"] = fav10[aab_columns].sum(axis=1) / fav10[\"total\"]\n",
        "summary_df = summary_df.sort_values(by=\"african-american_black\", ascending=False)\n",
        "\n",
        "plotdf = summary_df.sort_values(by=\"total\", ascending=False)[:100]\n",
        "fig = px.scatter(plotdf, x=\"female\", y=\"african-american_black\", text=\"movie\", size = \"total\", height=1000, color=\"total\")\n",
        "fig.update_traces(textposition='bottom center')\n",
        "fig.show()"
      ],
      "metadata": {
        "id": "ozkx9iCSquJd"
      },
      "execution_count": null,
      "outputs": []
    },
    {
      "cell_type": "markdown",
      "source": [
        "# Towards Feature Engineering"
      ],
      "metadata": {
        "id": "awiv7vvvtxs_"
      }
    },
    {
      "cell_type": "code",
      "source": [
        "#@title adding genre columns for each movie\n",
        "fav11 = pd.merge(left=fav10, right=moviesdf[[\"Title\", \"Genres\"]], left_on=\"movie\", right_on=\"Title\", how=\"left\" ).drop(\"Title\", axis=1)\n",
        "fav11[\"Genres\"] = fav11[\"Genres\"].apply(lambda x : x.replace(\",\",\"|\").replace(\" \",\"\"))\n",
        "genres = fav11[\"Genres\"].str.get_dummies().add_prefix('genre_')\n",
        "fav12 = pd.concat([fav11, genres], axis=1)\n",
        "fav13 = fav12.drop([\"Genres\", \"total\"], axis=1)\n",
        "fav13"
      ],
      "metadata": {
        "id": "hN4urkxVJtER"
      },
      "execution_count": null,
      "outputs": []
    },
    {
      "cell_type": "code",
      "source": [
        "#@title sklearn scaler errors on tuple column names, scale features and then use t-SNE to represent the features in 2 dimensions\n",
        "def tuplerenamer(colname):\n",
        "  if type(colname) == tuple:\n",
        "    return '_'.join(colname)\n",
        "  return colname\n",
        "\n",
        "from sklearn.preprocessing import MinMaxScaler\n",
        "\n",
        "prepped = fav13.rename(columns= lambda x : tuplerenamer(x))\n",
        "\n",
        "scaler = MinMaxScaler()\n",
        "scaled = scaler.fit_transform(prepped.iloc[:,1:])\n",
        "prepped.iloc[:,1:] = scaled\n",
        "\n",
        "from sklearn.manifold import TSNE\n",
        "model_tsne = TSNE(n_components=2, random_state=0)\n",
        "Y = model_tsne.fit_transform(scaled)\n",
        "\n",
        "prepped[[\"x\", \"y\"]] = Y\n",
        "prepped"
      ],
      "metadata": {
        "id": "dF0twrJSnEyy"
      },
      "execution_count": null,
      "outputs": []
    },
    {
      "cell_type": "code",
      "source": [
        "#@title visualizing the titles in t-SNE embedded space\n",
        "prepped[\"total\"] = fav12[\"total\"];\n",
        "plotdf = prepped.sort_values(by=\"total\", ascending=False)[:150]\n",
        "fig = px.scatter(plotdf, x=\"x\", y=\"y\", text=\"movie\", size = \"total\", height=1000, color=\"total\")\n",
        "fig.update_traces(textposition='bottom center')\n",
        "fig.show()"
      ],
      "metadata": {
        "id": "8_KaQEU1qQ4t"
      },
      "execution_count": null,
      "outputs": []
    },
    {
      "cell_type": "code",
      "source": [
        "#@title Find recommended movies by choosing a movie { run: \"auto\" }\n",
        "from scipy.spatial import distance\n",
        "movies = prepped[\"movie\"].tolist()\n",
        "dropdown = 'Avengers: Endgame' #@param ['Avengers: Endgame', 'Titanic', 'Toy Story', 'Forrest Gump', 'Pulp Fiction', 'Superbad']\n",
        "\n",
        "numerics = prepped.iloc[:,1:61] #keeping only the numeric columns\n",
        "selected = numerics[prepped[\"movie\"] == dropdown] #finding the row of the movie from the selected drop down\n",
        "prepped[\"dist\"]= numerics.apply(lambda row: distance.euclidean(row, selected), axis=1) #adding a distance calculation\n",
        "\n",
        "# Create a new dataframe with distances.\n",
        "results = prepped.sort_values(by=\"dist\") #order the results by movies closest to the selected movie\n",
        "print(results[\"movie\"].tolist()[:5])"
      ],
      "metadata": {
        "id": "qwVdBEy8zAGD"
      },
      "execution_count": null,
      "outputs": []
    },
    {
      "cell_type": "markdown",
      "source": [
        "# For more: [Feature Engineering for Machine Learning: Principles and Techniques for Data Scientists](https://www.amazon.com/Feature-Engineering-Machine-Learning-Principles/dp/1491953241/)"
      ],
      "metadata": {
        "id": "jOIMAP7vwls_"
      }
    }
  ],
  "metadata": {
    "colab": {
      "name": "content-recommender.ipynb",
      "provenance": [],
      "collapsed_sections": [],
      "authorship_tag": "ABX9TyN1iHo0EVQdX0MSsRfstfTv",
      "include_colab_link": true
    },
    "kernelspec": {
      "display_name": "Python 3",
      "name": "python3"
    },
    "language_info": {
      "name": "python"
    }
  },
  "nbformat": 4,
  "nbformat_minor": 0
}