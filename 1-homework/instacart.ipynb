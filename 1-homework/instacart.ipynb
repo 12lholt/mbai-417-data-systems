{
  "nbformat": 4,
  "nbformat_minor": 0,
  "metadata": {
    "colab": {
      "name": "Homework Assignment 1.ipynb",
      "provenance": [],
      "toc_visible": true,
      "authorship_tag": "ABX9TyP/yYlh0B5O+/TR2HphfYk3",
      "include_colab_link": true
    },
    "kernelspec": {
      "name": "python3",
      "display_name": "Python 3"
    },
    "language_info": {
      "name": "python"
    }
  },
  "cells": [
    {
      "cell_type": "markdown",
      "metadata": {
        "id": "view-in-github",
        "colab_type": "text"
      },
      "source": [
        "<a href=\"https://colab.research.google.com/github/brook-miller/mbai-417-data/blob/main/1-homework/instacart.ipynb\" target=\"_parent\"><img src=\"https://colab.research.google.com/assets/colab-badge.svg\" alt=\"Open In Colab\"/></a>"
      ]
    },
    {
      "cell_type": "markdown",
      "metadata": {
        "id": "8-8gP3sP_a_T"
      },
      "source": [
        "# Homework 1: Finding Evening Products to Drive Incremental Revenue at Instacart\n",
        "\n",
        "  "
      ]
    },
    {
      "cell_type": "markdown",
      "source": [
        "Your team has been brought to work with the merchandising team at Instacart.  The problem: early evening hours have delivery / driver availability but the number of orders falls off in the evening hours.  \n",
        "&nbsp;   \n",
        "We need to determine which products are being sold in the evening 6PM+ (18-23 in order_hour_of_day) hours so that the team can create new promotions.  To avoid developing a list of niche products we'd like to restrict our analysis to products that are ordered at least 5000 times.    \n",
        "&nbsp;  \n",
        "\n",
        "All the data you need is stored in the redshift database.  Please update the code in each code cell to build to the final list of products.  \n",
        "\n",
        "Don't forget to save your work locally.  Please submit a shareable link to your colab notebook to canvas by Friday 10/7 at midnight."
      ],
      "metadata": {
        "id": "ng63IUXNVTk7"
      }
    },
    {
      "cell_type": "markdown",
      "source": [
        "![picture](https://raw.githubusercontent.com/brook-miller/msai339-students/main/1-homework/instacart.png)"
      ],
      "metadata": {
        "id": "Uljim26znAz9"
      }
    },
    {
      "cell_type": "markdown",
      "source": [
        "# Setting up the environment"
      ],
      "metadata": {
        "id": "pgf4xRFXJLUw"
      }
    },
    {
      "cell_type": "code",
      "source": [
        "#@title installs for sqlalchemy and sqlmagic\n",
        "!pip install sqlalchemy-redshift --quiet\n",
        "!pip install redshift_connector --quiet\n",
        "!pip install ipython-sql --quiet"
      ],
      "metadata": {
        "id": "nqIJ3Za2_qfp"
      },
      "execution_count": 3,
      "outputs": []
    },
    {
      "cell_type": "code",
      "execution_count": 4,
      "metadata": {
        "id": "_jEoXXUi_a_V"
      },
      "outputs": [],
      "source": [
        "#@title standard imports - we'll use in most EDA\n",
        "import numpy as np\n",
        "import pandas as pd\n",
        "import matplotlib.pyplot as plt\n",
        "import plotly.express as px\n",
        "\n",
        "from datetime import datetime, timedelta\n",
        "from dateutil.parser import parse\n",
        "from google.colab import data_table\n",
        "data_table.enable_dataframe_formatter()"
      ]
    },
    {
      "cell_type": "code",
      "execution_count": 5,
      "metadata": {
        "id": "mFZDaICS_a_W",
        "outputId": "0fc2f20e-30ea-4aa2-bc44-097e7c562003",
        "colab": {
          "base_uri": "https://localhost:8080/",
          "height": 53
        }
      },
      "outputs": [
        {
          "name": "stdout",
          "output_type": "stream",
          "text": [
            "··········\n"
          ]
        },
        {
          "output_type": "execute_result",
          "data": {
            "text/plain": [
              "'Connected: msai339@dev'"
            ],
            "application/vnd.google.colaboratory.intrinsic+json": {
              "type": "string"
            }
          },
          "metadata": {},
          "execution_count": 5
        }
      ],
      "source": [
        "#@title setting up sql connection and sql magic, unique to this lab\n",
        "\n",
        "import getpass\n",
        "import sqlalchemy as sa\n",
        "from sqlalchemy.engine.url import URL\n",
        "from sqlalchemy import orm as sa_orm\n",
        "\n",
        "connect_to_db = URL.create(\n",
        "drivername='redshift+redshift_connector',     \n",
        "host='msai-339.crhqxpmozxj1.us-east-1.redshift.amazonaws.com',     \n",
        "port=5439,  \n",
        "database='dev',  \n",
        "username='msai339',         #username should not be hard coded either\n",
        "password=getpass.getpass()  #please don't put passwords into code\n",
        ")\n",
        "\n",
        "engine = sa.create_engine(connect_to_db)\n",
        "%reload_ext sql\n",
        "%sql $connect_to_db"
      ]
    },
    {
      "cell_type": "markdown",
      "source": [
        "# Determining evening products"
      ],
      "metadata": {
        "id": "6_YzoHvnMWm0"
      }
    },
    {
      "cell_type": "markdown",
      "source": [
        "## Show the number of orders by hour of day"
      ],
      "metadata": {
        "id": "hpFKVG7gNOFI"
      }
    },
    {
      "cell_type": "code",
      "source": [
        "%%sql\n"
      ],
      "metadata": {
        "id": "upzOVAMlNF93"
      },
      "execution_count": null,
      "outputs": []
    },
    {
      "cell_type": "markdown",
      "source": [
        "## Determine the number of products ordered by hour of day\n"
      ],
      "metadata": {
        "id": "ySxWYUYaOYke"
      }
    },
    {
      "cell_type": "code",
      "source": [
        "%%sql\n",
        "\n"
      ],
      "metadata": {
        "id": "m3pbTTLKOXC6"
      },
      "execution_count": null,
      "outputs": []
    },
    {
      "cell_type": "markdown",
      "source": [
        "## Calculate the basket size (# products / # orders) by hour of day"
      ],
      "metadata": {
        "id": "jXL87JPIVsK3"
      }
    },
    {
      "cell_type": "code",
      "source": [
        "%%sql \n",
        "\n",
        "\n"
      ],
      "metadata": {
        "id": "1ADn99oRNM9Z"
      },
      "execution_count": null,
      "outputs": []
    },
    {
      "cell_type": "markdown",
      "source": [
        "## Find the most commonly ordered products"
      ],
      "metadata": {
        "id": "s4zsTkdHY9NK"
      }
    },
    {
      "cell_type": "code",
      "source": [
        "%%sql\n",
        "\n"
      ],
      "metadata": {
        "id": "KWtm-CLxcakT"
      },
      "execution_count": null,
      "outputs": []
    },
    {
      "cell_type": "markdown",
      "source": [
        "## Find the most commonly ordered products in the evening hours (18-23)"
      ],
      "metadata": {
        "id": "9lVZj8TMXkNH"
      }
    },
    {
      "cell_type": "code",
      "source": [
        "%%sql\n"
      ],
      "metadata": {
        "id": "EWknNJaYXrgA"
      },
      "execution_count": null,
      "outputs": []
    },
    {
      "cell_type": "markdown",
      "source": [
        "## Calculate products that have the highest percentage of sales in the evening hours"
      ],
      "metadata": {
        "id": "P0ktbP2hcJ5a"
      }
    },
    {
      "cell_type": "code",
      "source": [
        "%%sql\n"
      ],
      "metadata": {
        "id": "37N0aYVYcqyk"
      },
      "execution_count": null,
      "outputs": []
    },
    {
      "cell_type": "markdown",
      "source": [
        "## Advanced: This is extra credit that does not earn extra points.  \n",
        "\n",
        "add_to_cart_order enumerates the order in which items were added to the cart for a particular *order*.  Which products are added to the cart first?  How does that change based on cutting off number of orders at 10, 100, 1000?  Is there a way to rank the items by interest without including an arbitrary number of orders.\n",
        "\n",
        "[Hint](https://nbviewer.org/github/CamDavidsonPilon/Probabilistic-Programming-and-Bayesian-Methods-for-Hackers/blob/master/Chapter4_TheGreatestTheoremNeverTold/Ch4_LawOfLargeNumbers_PyMC3.ipynb#Sorting!)\n"
      ],
      "metadata": {
        "id": "YkBxHBBPmqz2"
      }
    },
    {
      "cell_type": "code",
      "source": [
        "#python or sql"
      ],
      "metadata": {
        "id": "lNdyKq1FhuRH"
      },
      "execution_count": null,
      "outputs": []
    }
  ]
}