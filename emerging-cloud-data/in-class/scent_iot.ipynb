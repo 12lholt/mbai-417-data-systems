{
  "nbformat": 4,
  "nbformat_minor": 0,
  "metadata": {
    "colab": {
      "name": "scent-iot.ipynb",
      "provenance": [],
      "collapsed_sections": [],
      "authorship_tag": "ABX9TyN6FxlfmaCM5e1bzlaiY5JL",
      "include_colab_link": true
    },
    "kernelspec": {
      "name": "python3",
      "display_name": "Python 3"
    },
    "language_info": {
      "name": "python"
    }
  },
  "cells": [
    {
      "cell_type": "markdown",
      "metadata": {
        "id": "view-in-github",
        "colab_type": "text"
      },
      "source": [
        "<a href=\"https://colab.research.google.com/github/brook-miller/mbai-417-data/blob/main/emerging-cloud-data/in-class/scent_iot.ipynb\" target=\"_parent\"><img src=\"https://colab.research.google.com/assets/colab-badge.svg\" alt=\"Open In Colab\"/></a>"
      ]
    },
    {
      "cell_type": "code",
      "execution_count": null,
      "metadata": {
        "id": "TUcVe5J4rXr2"
      },
      "outputs": [],
      "source": [
        "#@title Standard imports - we'll use in most EDA\n",
        "import numpy as np\n",
        "import pandas as pd\n",
        "import matplotlib.pyplot as plt\n",
        "import plotly.express as px\n",
        "\n",
        "from datetime import datetime, timedelta\n",
        "from dateutil.parser import parse\n",
        "from google.colab import data_table\n",
        "data_table.enable_dataframe_formatter()"
      ]
    },
    {
      "cell_type": "code",
      "source": [
        "#@title Extra imports for this lab\n",
        "\n",
        "!pip install faker\n",
        "from faker import Faker\n",
        "fake = Faker()\n",
        "import random\n",
        "import json\n"
      ],
      "metadata": {
        "id": "xcExHOur7Vw4"
      },
      "execution_count": null,
      "outputs": []
    },
    {
      "cell_type": "code",
      "source": [
        "#@title ScentData class models the type of data received from IoT devices\n",
        "class ScentData:\n",
        "    #our sample api / scent data class\n",
        "    def __init__(self, i):\n",
        "        self.latitude = (random.random() * 180) - 90\n",
        "        self.longitude = (random.random() * 360) - 180\n",
        "        self.location = fake.address()\n",
        "        self.company = fake.company()\n",
        "        self.sqi = random.random()\n",
        "        self.air_temp = random.random()\n",
        "        self.fill_level = random.random()\n",
        "        self.id = i"
      ],
      "metadata": {
        "id": "3S9JwW_Dr1qB"
      },
      "execution_count": null,
      "outputs": []
    },
    {
      "cell_type": "code",
      "source": [
        "#@title Build sample data and save it to 3 file formats\n",
        "items = [ScentData(i) for i in range(0,1000)]\n",
        "\n",
        "df = pd.DataFrame([vars(f) for f in items])\n",
        "df.to_parquet(\"data.parquet\")\n",
        "df.to_csv(\"data.csv\", sep=',', encoding='utf-8')\n",
        "\n",
        "json_string = json.dumps([item.__dict__ for item in items], sort_keys=True, indent=4)\n",
        "\n",
        "with open('data.json', 'w') as file:\n",
        "    file.write(json_string)"
      ],
      "metadata": {
        "id": "UCgeiGAvuO8V"
      },
      "execution_count": null,
      "outputs": []
    },
    {
      "cell_type": "code",
      "source": [
        "#@title Check file sizes\n",
        "\n",
        "import os\n",
        "\n",
        "files = [\"data.json\", \"data.csv\", \"data.parquet\"]\n",
        "\n",
        "for file in files:\n",
        "  file_size = os.path.getsize(file)\n",
        "  print(f\"{file} size is : {file_size} bytes\")"
      ],
      "metadata": {
        "id": "5535uyhP0KCC"
      },
      "execution_count": null,
      "outputs": []
    }
  ]
}