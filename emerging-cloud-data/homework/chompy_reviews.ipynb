{
  "nbformat": 4,
  "nbformat_minor": 0,
  "metadata": {
    "colab": {
      "name": "chompy_reviews.ipynb",
      "provenance": [],
      "authorship_tag": "ABX9TyNSN3ksC2Pg2M2usprhQW1u",
      "include_colab_link": true
    },
    "kernelspec": {
      "name": "python3",
      "display_name": "Python 3"
    },
    "language_info": {
      "name": "python"
    }
  },
  "cells": [
    {
      "cell_type": "markdown",
      "metadata": {
        "id": "view-in-github",
        "colab_type": "text"
      },
      "source": [
        "<a href=\"https://colab.research.google.com/github/brook-miller/mbai-417-data/blob/main/emerging-cloud-data/homework/chompy_reviews.ipynb\" target=\"_parent\"><img src=\"https://colab.research.google.com/assets/colab-badge.svg\" alt=\"Open In Colab\"/></a>"
      ]
    },
    {
      "cell_type": "markdown",
      "source": [
        "#Delivering a Great Experience for Chompy Shoppers\n",
        "\n",
        "## Situation\n",
        "\n",
        "As part of a growing pet ecommerce site Chompy.com, the team has realized they need to develop a more comprehensive strategy for reviews.  They’ve asked your team to analyze reviews data from amazon.com to determine what type of reviews are most helpful to shoppers.  The team managing the customer loyalty program (Chompers) will create incentives for loyal shoppers to leave helpful reviews.\n",
        "\n",
        "## The role of reviews in driving ecommerce sales\n",
        "\n",
        "Reviews and more generally user-generated content (UGC) impact sales online and in-store through increased revenue, conversion rate, SEO impact, and in-store sales (omni-channel & multiple consumer journey touch points).\n",
        "\n",
        "Companies like Bazaarvoice help collect top-tier content from customers and help distribute it across the world’s largest syndication network. Whether your brand is an emerging D2C (DTC) contender, or a Fortune 100 global powerhouse, Bazaarvoice’s expertise makes sure your program uses the right set of strategies and collection methods to ignite consumer confidence, inspiration, and discovery.\n",
        "\n",
        "https://www.bazaarvoice.com/roi-calculator/\n",
        "\n",
        "\n",
        "> New research shows that small changes in star ratings can drive explosive growth for products—on the order of 30 to 200 percent depending on category. Driving those changes at scale requires a novel approach.\n",
        "[- McKinsey & Company, August 12, 2021](https://www.mckinsey.com/industries/consumer-packaged-goods/our-insights/five-star-growth-using-online-ratings-to-design-better-products)\n",
        "\n",
        "## The Analysis\n",
        "\n",
        "Use the techniques of EDA to understand which types of reviews are most helpful.  The loyalty team will use the guidance you develop to decide which reviewers will be rewarded with additional loyalty incentives.\n"
      ],
      "metadata": {
        "id": "qfKcHJxLEvGc"
      }
    },
    {
      "cell_type": "code",
      "source": [
        "#@title Standard imports - we'll use in most EDA\n",
        "import numpy as np\n",
        "import pandas as pd\n",
        "import matplotlib.pyplot as plt\n",
        "import plotly.express as px\n",
        "\n",
        "from datetime import datetime, timedelta\n",
        "from dateutil.parser import parse\n",
        "from google.colab import data_table\n",
        "data_table.enable_dataframe_formatter()"
      ],
      "metadata": {
        "id": "StkEK8Q4DjFo"
      },
      "execution_count": null,
      "outputs": []
    },
    {
      "cell_type": "code",
      "execution_count": null,
      "metadata": {
        "id": "IKEzxjTd4YTe"
      },
      "outputs": [],
      "source": [
        "#@title loading the review data into a data frame\n",
        "\n",
        "import urllib.request\n",
        "\n",
        "#@markdown Data files are stored in individual json documents at the path below.  The filelist.txt contains the individual file names.\n",
        "dataPath = r\"https://raw.githubusercontent.com/brook-miller/mbai-417-data/main/emerging-cloud-data/homework/\"\n",
        "url = dataPath + \"filelist.txt\"\n",
        "inputFileList = urllib.request.urlopen(url)\n",
        "\n",
        "\n",
        "dfs = []\n",
        "\n",
        "for line in inputFileList:\n",
        "  decoded_line = str(line, \"utf-8\").replace('\\n','').replace(' ','%20') #@markdown pandas.read_json requires valid urls so the space in the filename needs to be urlencoded as %20\n",
        "  dfs.append(pd.read_json(dataPath + decoded_line))\n",
        "\n",
        " \n",
        "df = pd.concat(dfs)\n",
        "df"
      ]
    },
    {
      "cell_type": "markdown",
      "source": [
        "# Conduct your EDA here\n",
        "\n",
        "Add code cells (as many) as needed below.\n",
        "\n"
      ],
      "metadata": {
        "id": "TLPVyxi6DyWL"
      }
    },
    {
      "cell_type": "code",
      "source": [
        ""
      ],
      "metadata": {
        "id": "-CaaGmLZGyFW"
      },
      "execution_count": null,
      "outputs": []
    },
    {
      "cell_type": "markdown",
      "source": [
        "# Final analysis\n",
        "In the markdown cell below summarize your findings. What questions did you ask?  What features of reviews are correlated with helpfulness?  What other questions would you like to ask? Can negative reviews be helpful?\n",
        "\n",
        "Please limit your response to 250 words (+/-)"
      ],
      "metadata": {
        "id": "HXM9n82IG0vb"
      }
    },
    {
      "cell_type": "markdown",
      "source": [
        "*final analysis here*"
      ],
      "metadata": {
        "id": "Pkd0dpk4H_tS"
      }
    }
  ]
}