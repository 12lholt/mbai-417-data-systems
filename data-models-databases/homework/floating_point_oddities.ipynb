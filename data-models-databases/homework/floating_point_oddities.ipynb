{
  "nbformat": 4,
  "nbformat_minor": 0,
  "metadata": {
    "colab": {
      "name": "floating point oddities.ipynb",
      "provenance": [],
      "collapsed_sections": [],
      "authorship_tag": "ABX9TyOV+kFRJnxHIVGxzpsjGshX",
      "include_colab_link": true
    },
    "kernelspec": {
      "name": "python3",
      "display_name": "Python 3"
    },
    "language_info": {
      "name": "python"
    }
  },
  "cells": [
    {
      "cell_type": "markdown",
      "metadata": {
        "id": "view-in-github",
        "colab_type": "text"
      },
      "source": [
        "<a href=\"https://colab.research.google.com/github/brook-miller/mbai-417-data/blob/main/data-models-databases/homework/floating_point_oddities.ipynb\" target=\"_parent\"><img src=\"https://colab.research.google.com/assets/colab-badge.svg\" alt=\"Open In Colab\"/></a>"
      ]
    },
    {
      "cell_type": "code",
      "metadata": {
        "colab": {
          "base_uri": "https://localhost:8080/"
        },
        "id": "hiiGOVOqgwmR",
        "outputId": "d783d8bc-78cd-4100-f1fe-f095626b75ce"
      },
      "source": [
        "x = 1.2 - 1.0 - .2\n",
        "if x == 1:\n",
        "  print(\"of course\")\n",
        "else:\n",
        "  print(\"hmmm\")\n",
        "print(x)\n",
        "\n",
        "x,y = 5,4\n",
        "z = 5 / 4\n",
        "print(z)"
      ],
      "execution_count": 10,
      "outputs": [
        {
          "output_type": "stream",
          "name": "stdout",
          "text": [
            "hmmm\n",
            "-5.551115123125783e-17\n",
            "1.25\n"
          ]
        }
      ]
    },
    {
      "cell_type": "markdown",
      "source": [
        "Floating point numbers will cause some problems / interesting behavior, typically in financial applications developers will use special Decimal libraries which will use long/int types to keep track of hundredths of pennies and ensure correct rounding for the regulatory / financial needs.\n",
        "\n",
        "In many languages (including sql) the results of division of 2 integers is an integer which is the whole number discarding the remainder. For many applications this behavior was desired but in the event you are dividing in sql as required by the homework your results will all be whole numbers which obscures the changes in basket size by hour.  You need to cast one of the operands to a float in order to perform floating point division as required in the homework.\n",
        "\n",
        "in the redshift dialect of sql we can use ::float on the select to cast the variable and perform floating point division.\n",
        "\n",
        "\n",
        "```\n",
        "productcount::float / ordercount as basketsize\n",
        "```\n",
        "\n"
      ],
      "metadata": {
        "id": "91ZhcccyjPjn"
      }
    },
    {
      "cell_type": "code",
      "source": [
        ""
      ],
      "metadata": {
        "id": "1LvCmivzmDu8"
      },
      "execution_count": null,
      "outputs": []
    }
  ]
}